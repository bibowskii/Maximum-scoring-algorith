{
  "nbformat": 4,
  "nbformat_minor": 0,
  "metadata": {
    "colab": {
      "provenance": []
    },
    "kernelspec": {
      "name": "python3",
      "display_name": "Python 3"
    },
    "language_info": {
      "name": "python"
    }
  },
  "cells": [
    {
      "cell_type": "code",
      "execution_count": null,
      "metadata": {
        "colab": {
          "base_uri": "https://localhost:8080/"
        },
        "id": "CIxo8o_sOjVA",
        "outputId": "79e58a21-924b-448d-d979-34a678bdbe12"
      },
      "outputs": [
        {
          "output_type": "stream",
          "name": "stdout",
          "text": [
            "Enter the first string: ACGT\n",
            "Enter the second string: AGT\n",
            "Enter the match score: +2\n",
            "Enter the mismatch penalty: -1\n",
            "Enter the gap penalty: -2\n",
            "\n",
            "Alignment Score: 4\n",
            "Aligned Sequences:\n",
            "ACGT\n",
            "A-GT\n"
          ]
        }
      ],
      "source": [
        "def global_alignment(v, w, match_score, mismatch_penalty, gap_penalty):\n",
        "\n",
        "    # Initialize matrices\n",
        "    n, m = len(v), len(w)\n",
        "    score_matrix = [[0] * (m + 1) for _ in range(n + 1)]\n",
        "    traceback_matrix = [[None] * (m + 1) for _ in range(n + 1)]\n",
        "\n",
        "    # Fill with gap penalties\n",
        "    for i in range(1, n + 1):\n",
        "        score_matrix[i][0] = score_matrix[i - 1][0] + gap_penalty\n",
        "        traceback_matrix[i][0] = \"UP\"\n",
        "    for j in range(1, m + 1):\n",
        "        score_matrix[0][j] = score_matrix[0][j - 1] + gap_penalty\n",
        "        traceback_matrix[0][j] = \"LEFT\"\n",
        "\n",
        "\n",
        "    for i in range(1, n + 1):\n",
        "        for j in range(1, m + 1):\n",
        "            match = score_matrix[i - 1][j - 1] + (match_score if v[i - 1] == w[j - 1] else mismatch_penalty)\n",
        "            delete = score_matrix[i - 1][j] + gap_penalty\n",
        "            insert = score_matrix[i][j - 1] + gap_penalty\n",
        "\n",
        "\n",
        "            max_score = max(match, delete, insert)\n",
        "            score_matrix[i][j] = max_score\n",
        "\n",
        "\n",
        "            if max_score == match:\n",
        "                traceback_matrix[i][j] = \"DIAG\"\n",
        "            elif max_score == delete:\n",
        "                traceback_matrix[i][j] = \"UP\"\n",
        "            else:\n",
        "                traceback_matrix[i][j] = \"LEFT\"\n",
        "\n",
        "    # Tracing\n",
        "    v_aligned, w_aligned = \"\", \"\"\n",
        "    i, j = n, m\n",
        "    while i > 0 or j > 0:\n",
        "        if traceback_matrix[i][j] == \"DIAG\":\n",
        "            v_aligned = v[i - 1] + v_aligned\n",
        "            w_aligned = w[j - 1] + w_aligned\n",
        "            i -= 1\n",
        "            j -= 1\n",
        "        elif traceback_matrix[i][j] == \"UP\":\n",
        "            v_aligned = v[i - 1] + v_aligned\n",
        "            w_aligned = \"-\" + w_aligned\n",
        "            i -= 1\n",
        "        elif traceback_matrix[i][j] == \"LEFT\":\n",
        "            v_aligned = \"-\" + v_aligned\n",
        "            w_aligned = w[j - 1] + w_aligned\n",
        "            j -= 1\n",
        "\n",
        "    alignment_score = score_matrix[n][m]\n",
        "    return alignment_score, v_aligned, w_aligned\n",
        "\n",
        "if __name__ == \"__main__\":\n",
        "\n",
        "    v = input(\"Enter the first string: \")\n",
        "    w = input(\"Enter the second string: \")\n",
        "    match_score = int(input(\"Enter the match score: \"))\n",
        "    mismatch_penalty = int(input(\"Enter the mismatch penalty: \"))\n",
        "    gap_penalty = int(input(\"Enter the gap penalty: \"))\n",
        "\n",
        "\n",
        "    alignment_score, v_aligned, w_aligned = global_alignment(v, w, match_score, mismatch_penalty, gap_penalty)\n",
        "\n",
        "\n",
        "    print(\"\\nAlignment Score:\", alignment_score)\n",
        "    print(\"Aligned Sequences:\")\n",
        "    print(v_aligned)\n",
        "    print(w_aligned)\n"
      ]
    }
  ]
}